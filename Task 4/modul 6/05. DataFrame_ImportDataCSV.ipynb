{
 "cells": [
  {
   "attachments": {},
   "cell_type": "markdown",
   "metadata": {},
   "source": [
    "### Import Data CSV"
   ]
  },
  {
   "cell_type": "code",
   "execution_count": 147,
   "metadata": {},
   "outputs": [
    {
     "data": {
      "text/html": [
       "<div>\n",
       "<style scoped>\n",
       "    .dataframe tbody tr th:only-of-type {\n",
       "        vertical-align: middle;\n",
       "    }\n",
       "\n",
       "    .dataframe tbody tr th {\n",
       "        vertical-align: top;\n",
       "    }\n",
       "\n",
       "    .dataframe thead th {\n",
       "        text-align: right;\n",
       "    }\n",
       "</style>\n",
       "<table border=\"1\" class=\"dataframe\">\n",
       "  <thead>\n",
       "    <tr style=\"text-align: right;\">\n",
       "      <th></th>\n",
       "      <th>nama_youtuber</th>\n",
       "      <th>jenis_kelamin</th>\n",
       "      <th>umur</th>\n",
       "      <th>kategori</th>\n",
       "      <th>subscriber</th>\n",
       "    </tr>\n",
       "  </thead>\n",
       "  <tbody>\n",
       "    <tr>\n",
       "      <th>0</th>\n",
       "      <td>Raditya Dika</td>\n",
       "      <td>L</td>\n",
       "      <td>34</td>\n",
       "      <td>Komedi</td>\n",
       "      <td>7000000</td>\n",
       "    </tr>\n",
       "    <tr>\n",
       "      <th>1</th>\n",
       "      <td>Statement Prod</td>\n",
       "      <td>L</td>\n",
       "      <td>29</td>\n",
       "      <td>Daily Vlog</td>\n",
       "      <td>120000</td>\n",
       "    </tr>\n",
       "    <tr>\n",
       "      <th>2</th>\n",
       "      <td>Arief Muhammad</td>\n",
       "      <td>L</td>\n",
       "      <td>28</td>\n",
       "      <td>Daily Vlog</td>\n",
       "      <td>3000000</td>\n",
       "    </tr>\n",
       "    <tr>\n",
       "      <th>3</th>\n",
       "      <td>Annisa Aziza</td>\n",
       "      <td>P</td>\n",
       "      <td>25</td>\n",
       "      <td>Food Travel</td>\n",
       "      <td>600000</td>\n",
       "    </tr>\n",
       "    <tr>\n",
       "      <th>4</th>\n",
       "      <td>Sarah Viloid</td>\n",
       "      <td>P</td>\n",
       "      <td>23</td>\n",
       "      <td>Gamer</td>\n",
       "      <td>2000000</td>\n",
       "    </tr>\n",
       "    <tr>\n",
       "      <th>5</th>\n",
       "      <td>MLI</td>\n",
       "      <td>L</td>\n",
       "      <td>30</td>\n",
       "      <td>Komedi</td>\n",
       "      <td>800000</td>\n",
       "    </tr>\n",
       "    <tr>\n",
       "      <th>6</th>\n",
       "      <td>Chandra Liow</td>\n",
       "      <td>L</td>\n",
       "      <td>26</td>\n",
       "      <td>Sketsa</td>\n",
       "      <td>3000000</td>\n",
       "    </tr>\n",
       "  </tbody>\n",
       "</table>\n",
       "</div>"
      ],
      "text/plain": [
       "    nama_youtuber jenis_kelamin  umur     kategori  subscriber\n",
       "0    Raditya Dika             L    34       Komedi     7000000\n",
       "1  Statement Prod             L    29   Daily Vlog      120000\n",
       "2  Arief Muhammad             L    28   Daily Vlog     3000000\n",
       "3    Annisa Aziza             P    25  Food Travel      600000\n",
       "4    Sarah Viloid             P    23        Gamer     2000000\n",
       "5             MLI             L    30       Komedi      800000\n",
       "6    Chandra Liow             L    26       Sketsa     3000000"
      ]
     },
     "execution_count": 147,
     "metadata": {},
     "output_type": "execute_result"
    }
   ],
   "source": [
    "import pandas as pd\n",
    "\n",
    "# membaca dataset dan store ke dataframe\n",
    "sample = pd.read_csv(\"sampledataok.csv\")\n",
    "\n",
    "# print\n",
    "sample"
   ]
  },
  {
   "attachments": {},
   "cell_type": "markdown",
   "metadata": {},
   "source": [
    "### Macam-Macam Operasi"
   ]
  },
  {
   "attachments": {},
   "cell_type": "markdown",
   "metadata": {},
   "source": [
    "head()"
   ]
  },
  {
   "cell_type": "code",
   "execution_count": 148,
   "metadata": {},
   "outputs": [
    {
     "data": {
      "text/html": [
       "<div>\n",
       "<style scoped>\n",
       "    .dataframe tbody tr th:only-of-type {\n",
       "        vertical-align: middle;\n",
       "    }\n",
       "\n",
       "    .dataframe tbody tr th {\n",
       "        vertical-align: top;\n",
       "    }\n",
       "\n",
       "    .dataframe thead th {\n",
       "        text-align: right;\n",
       "    }\n",
       "</style>\n",
       "<table border=\"1\" class=\"dataframe\">\n",
       "  <thead>\n",
       "    <tr style=\"text-align: right;\">\n",
       "      <th></th>\n",
       "      <th>nama_youtuber</th>\n",
       "      <th>jenis_kelamin</th>\n",
       "      <th>umur</th>\n",
       "      <th>kategori</th>\n",
       "      <th>subscriber</th>\n",
       "    </tr>\n",
       "  </thead>\n",
       "  <tbody>\n",
       "    <tr>\n",
       "      <th>0</th>\n",
       "      <td>Raditya Dika</td>\n",
       "      <td>L</td>\n",
       "      <td>34</td>\n",
       "      <td>Komedi</td>\n",
       "      <td>7000000</td>\n",
       "    </tr>\n",
       "    <tr>\n",
       "      <th>1</th>\n",
       "      <td>Statement Prod</td>\n",
       "      <td>L</td>\n",
       "      <td>29</td>\n",
       "      <td>Daily Vlog</td>\n",
       "      <td>120000</td>\n",
       "    </tr>\n",
       "    <tr>\n",
       "      <th>2</th>\n",
       "      <td>Arief Muhammad</td>\n",
       "      <td>L</td>\n",
       "      <td>28</td>\n",
       "      <td>Daily Vlog</td>\n",
       "      <td>3000000</td>\n",
       "    </tr>\n",
       "    <tr>\n",
       "      <th>3</th>\n",
       "      <td>Annisa Aziza</td>\n",
       "      <td>P</td>\n",
       "      <td>25</td>\n",
       "      <td>Food Travel</td>\n",
       "      <td>600000</td>\n",
       "    </tr>\n",
       "    <tr>\n",
       "      <th>4</th>\n",
       "      <td>Sarah Viloid</td>\n",
       "      <td>P</td>\n",
       "      <td>23</td>\n",
       "      <td>Gamer</td>\n",
       "      <td>2000000</td>\n",
       "    </tr>\n",
       "  </tbody>\n",
       "</table>\n",
       "</div>"
      ],
      "text/plain": [
       "    nama_youtuber jenis_kelamin  umur     kategori  subscriber\n",
       "0    Raditya Dika             L    34       Komedi     7000000\n",
       "1  Statement Prod             L    29   Daily Vlog      120000\n",
       "2  Arief Muhammad             L    28   Daily Vlog     3000000\n",
       "3    Annisa Aziza             P    25  Food Travel      600000\n",
       "4    Sarah Viloid             P    23        Gamer     2000000"
      ]
     },
     "execution_count": 148,
     "metadata": {},
     "output_type": "execute_result"
    }
   ],
   "source": [
    "# head(), menampilkan 5 records pertama\n",
    "sample.head()"
   ]
  },
  {
   "cell_type": "code",
   "execution_count": 149,
   "metadata": {},
   "outputs": [
    {
     "data": {
      "text/html": [
       "<div>\n",
       "<style scoped>\n",
       "    .dataframe tbody tr th:only-of-type {\n",
       "        vertical-align: middle;\n",
       "    }\n",
       "\n",
       "    .dataframe tbody tr th {\n",
       "        vertical-align: top;\n",
       "    }\n",
       "\n",
       "    .dataframe thead th {\n",
       "        text-align: right;\n",
       "    }\n",
       "</style>\n",
       "<table border=\"1\" class=\"dataframe\">\n",
       "  <thead>\n",
       "    <tr style=\"text-align: right;\">\n",
       "      <th></th>\n",
       "      <th>nama_youtuber</th>\n",
       "      <th>jenis_kelamin</th>\n",
       "      <th>umur</th>\n",
       "      <th>kategori</th>\n",
       "      <th>subscriber</th>\n",
       "    </tr>\n",
       "  </thead>\n",
       "  <tbody>\n",
       "    <tr>\n",
       "      <th>0</th>\n",
       "      <td>Raditya Dika</td>\n",
       "      <td>L</td>\n",
       "      <td>34</td>\n",
       "      <td>Komedi</td>\n",
       "      <td>7000000</td>\n",
       "    </tr>\n",
       "    <tr>\n",
       "      <th>1</th>\n",
       "      <td>Statement Prod</td>\n",
       "      <td>L</td>\n",
       "      <td>29</td>\n",
       "      <td>Daily Vlog</td>\n",
       "      <td>120000</td>\n",
       "    </tr>\n",
       "  </tbody>\n",
       "</table>\n",
       "</div>"
      ],
      "text/plain": [
       "    nama_youtuber jenis_kelamin  umur    kategori  subscriber\n",
       "0    Raditya Dika             L    34      Komedi     7000000\n",
       "1  Statement Prod             L    29  Daily Vlog      120000"
      ]
     },
     "execution_count": 149,
     "metadata": {},
     "output_type": "execute_result"
    }
   ],
   "source": [
    "# menampilkan 2 records pertama\n",
    "sample.head(2)"
   ]
  },
  {
   "attachments": {},
   "cell_type": "markdown",
   "metadata": {},
   "source": [
    "tail()"
   ]
  },
  {
   "cell_type": "code",
   "execution_count": 150,
   "metadata": {},
   "outputs": [
    {
     "data": {
      "text/html": [
       "<div>\n",
       "<style scoped>\n",
       "    .dataframe tbody tr th:only-of-type {\n",
       "        vertical-align: middle;\n",
       "    }\n",
       "\n",
       "    .dataframe tbody tr th {\n",
       "        vertical-align: top;\n",
       "    }\n",
       "\n",
       "    .dataframe thead th {\n",
       "        text-align: right;\n",
       "    }\n",
       "</style>\n",
       "<table border=\"1\" class=\"dataframe\">\n",
       "  <thead>\n",
       "    <tr style=\"text-align: right;\">\n",
       "      <th></th>\n",
       "      <th>nama_youtuber</th>\n",
       "      <th>jenis_kelamin</th>\n",
       "      <th>umur</th>\n",
       "      <th>kategori</th>\n",
       "      <th>subscriber</th>\n",
       "    </tr>\n",
       "  </thead>\n",
       "  <tbody>\n",
       "    <tr>\n",
       "      <th>2</th>\n",
       "      <td>Arief Muhammad</td>\n",
       "      <td>L</td>\n",
       "      <td>28</td>\n",
       "      <td>Daily Vlog</td>\n",
       "      <td>3000000</td>\n",
       "    </tr>\n",
       "    <tr>\n",
       "      <th>3</th>\n",
       "      <td>Annisa Aziza</td>\n",
       "      <td>P</td>\n",
       "      <td>25</td>\n",
       "      <td>Food Travel</td>\n",
       "      <td>600000</td>\n",
       "    </tr>\n",
       "    <tr>\n",
       "      <th>4</th>\n",
       "      <td>Sarah Viloid</td>\n",
       "      <td>P</td>\n",
       "      <td>23</td>\n",
       "      <td>Gamer</td>\n",
       "      <td>2000000</td>\n",
       "    </tr>\n",
       "    <tr>\n",
       "      <th>5</th>\n",
       "      <td>MLI</td>\n",
       "      <td>L</td>\n",
       "      <td>30</td>\n",
       "      <td>Komedi</td>\n",
       "      <td>800000</td>\n",
       "    </tr>\n",
       "    <tr>\n",
       "      <th>6</th>\n",
       "      <td>Chandra Liow</td>\n",
       "      <td>L</td>\n",
       "      <td>26</td>\n",
       "      <td>Sketsa</td>\n",
       "      <td>3000000</td>\n",
       "    </tr>\n",
       "  </tbody>\n",
       "</table>\n",
       "</div>"
      ],
      "text/plain": [
       "    nama_youtuber jenis_kelamin  umur     kategori  subscriber\n",
       "2  Arief Muhammad             L    28   Daily Vlog     3000000\n",
       "3    Annisa Aziza             P    25  Food Travel      600000\n",
       "4    Sarah Viloid             P    23        Gamer     2000000\n",
       "5             MLI             L    30       Komedi      800000\n",
       "6    Chandra Liow             L    26       Sketsa     3000000"
      ]
     },
     "execution_count": 150,
     "metadata": {},
     "output_type": "execute_result"
    }
   ],
   "source": [
    "# head(), menampilkan 5 records terakhir\n",
    "sample.tail()"
   ]
  },
  {
   "cell_type": "code",
   "execution_count": 151,
   "metadata": {},
   "outputs": [
    {
     "data": {
      "text/html": [
       "<div>\n",
       "<style scoped>\n",
       "    .dataframe tbody tr th:only-of-type {\n",
       "        vertical-align: middle;\n",
       "    }\n",
       "\n",
       "    .dataframe tbody tr th {\n",
       "        vertical-align: top;\n",
       "    }\n",
       "\n",
       "    .dataframe thead th {\n",
       "        text-align: right;\n",
       "    }\n",
       "</style>\n",
       "<table border=\"1\" class=\"dataframe\">\n",
       "  <thead>\n",
       "    <tr style=\"text-align: right;\">\n",
       "      <th></th>\n",
       "      <th>nama_youtuber</th>\n",
       "      <th>jenis_kelamin</th>\n",
       "      <th>umur</th>\n",
       "      <th>kategori</th>\n",
       "      <th>subscriber</th>\n",
       "    </tr>\n",
       "  </thead>\n",
       "  <tbody>\n",
       "    <tr>\n",
       "      <th>4</th>\n",
       "      <td>Sarah Viloid</td>\n",
       "      <td>P</td>\n",
       "      <td>23</td>\n",
       "      <td>Gamer</td>\n",
       "      <td>2000000</td>\n",
       "    </tr>\n",
       "    <tr>\n",
       "      <th>5</th>\n",
       "      <td>MLI</td>\n",
       "      <td>L</td>\n",
       "      <td>30</td>\n",
       "      <td>Komedi</td>\n",
       "      <td>800000</td>\n",
       "    </tr>\n",
       "    <tr>\n",
       "      <th>6</th>\n",
       "      <td>Chandra Liow</td>\n",
       "      <td>L</td>\n",
       "      <td>26</td>\n",
       "      <td>Sketsa</td>\n",
       "      <td>3000000</td>\n",
       "    </tr>\n",
       "  </tbody>\n",
       "</table>\n",
       "</div>"
      ],
      "text/plain": [
       "  nama_youtuber jenis_kelamin  umur kategori  subscriber\n",
       "4  Sarah Viloid             P    23    Gamer     2000000\n",
       "5           MLI             L    30   Komedi      800000\n",
       "6  Chandra Liow             L    26   Sketsa     3000000"
      ]
     },
     "execution_count": 151,
     "metadata": {},
     "output_type": "execute_result"
    }
   ],
   "source": [
    "# menampilkan 3 records terakhir\n",
    "sample.tail(3)"
   ]
  },
  {
   "attachments": {},
   "cell_type": "markdown",
   "metadata": {},
   "source": [
    "shape"
   ]
  },
  {
   "cell_type": "code",
   "execution_count": 152,
   "metadata": {},
   "outputs": [
    {
     "data": {
      "text/plain": [
       "(7, 5)"
      ]
     },
     "execution_count": 152,
     "metadata": {},
     "output_type": "execute_result"
    }
   ],
   "source": [
    "# menampilkan jumlah baris dan kolom pada DataFrame\n",
    "sample.shape"
   ]
  },
  {
   "attachments": {},
   "cell_type": "markdown",
   "metadata": {},
   "source": [
    "Mean, Median, Standar Deviasi"
   ]
  },
  {
   "cell_type": "code",
   "execution_count": 153,
   "metadata": {},
   "outputs": [
    {
     "name": "stderr",
     "output_type": "stream",
     "text": [
      "C:\\Users\\Administrator\\AppData\\Local\\Temp\\ipykernel_1224\\778165288.py:4: FutureWarning: The default value of numeric_only in DataFrame.mean is deprecated. In a future version, it will default to False. In addition, specifying 'numeric_only=None' is deprecated. Select only valid columns or specify the value of numeric_only to silence this warning.\n",
      "  sample.mean()\n"
     ]
    },
    {
     "data": {
      "text/plain": [
       "umur          2.785714e+01\n",
       "subscriber    2.360000e+06\n",
       "dtype: float64"
      ]
     },
     "execution_count": 153,
     "metadata": {},
     "output_type": "execute_result"
    }
   ],
   "source": [
    "# mean adalah rata-rata\n",
    "# 2.785714e+01 artinya 2.285714 * 10^1 = 2.785714 * 10 jadi Mean-nya adalah 27.85714\n",
    "# 2.360000e+06 artinya 2.360000 * 10^6 = 2.360000 * 1000000 jadi Mean-nya adalah 2360000\n",
    "sample.mean()"
   ]
  },
  {
   "cell_type": "code",
   "execution_count": 154,
   "metadata": {},
   "outputs": [
    {
     "name": "stderr",
     "output_type": "stream",
     "text": [
      "C:\\Users\\Administrator\\AppData\\Local\\Temp\\ipykernel_1224\\2166340932.py:3: FutureWarning: The default value of numeric_only in DataFrame.median is deprecated. In a future version, it will default to False. In addition, specifying 'numeric_only=None' is deprecated. Select only valid columns or specify the value of numeric_only to silence this warning.\n",
      "  sample.median()\n"
     ]
    },
    {
     "data": {
      "text/plain": [
       "umur               28.0\n",
       "subscriber    2000000.0\n",
       "dtype: float64"
      ]
     },
     "execution_count": 154,
     "metadata": {},
     "output_type": "execute_result"
    }
   ],
   "source": [
    "# median adalah nilai tengah dari data yang telah diurut dari terkecil hingga terbesar\n",
    "# umur : 23 25 26 28 29 30 34\n",
    "sample.median()"
   ]
  },
  {
   "cell_type": "code",
   "execution_count": 155,
   "metadata": {},
   "outputs": [
    {
     "name": "stderr",
     "output_type": "stream",
     "text": [
      "C:\\Users\\Administrator\\AppData\\Local\\Temp\\ipykernel_1224\\4082167482.py:2: FutureWarning: The default value of numeric_only in DataFrame.std is deprecated. In a future version, it will default to False. In addition, specifying 'numeric_only=None' is deprecated. Select only valid columns or specify the value of numeric_only to silence this warning.\n",
      "  sample.std()\n"
     ]
    },
    {
     "data": {
      "text/plain": [
       "umur          3.625308e+00\n",
       "subscriber    2.346174e+06\n",
       "dtype: float64"
      ]
     },
     "execution_count": 155,
     "metadata": {},
     "output_type": "execute_result"
    }
   ],
   "source": [
    "# standar deviasi\n",
    "sample.std()"
   ]
  },
  {
   "attachments": {},
   "cell_type": "markdown",
   "metadata": {},
   "source": [
    "Max, Min, Count"
   ]
  },
  {
   "cell_type": "code",
   "execution_count": 156,
   "metadata": {},
   "outputs": [
    {
     "data": {
      "text/plain": [
       "nama_youtuber    Statement Prod\n",
       "jenis_kelamin                 P\n",
       "umur                         34\n",
       "kategori                 Sketsa\n",
       "subscriber              7000000\n",
       "dtype: object"
      ]
     },
     "execution_count": 156,
     "metadata": {},
     "output_type": "execute_result"
    }
   ],
   "source": [
    "# max untuk mencari nilai tertinggi\n",
    "sample.max()"
   ]
  },
  {
   "cell_type": "code",
   "execution_count": 157,
   "metadata": {},
   "outputs": [
    {
     "data": {
      "text/plain": [
       "nama_youtuber    Annisa Aziza\n",
       "jenis_kelamin               L\n",
       "umur                       23\n",
       "kategori           Daily Vlog\n",
       "subscriber             120000\n",
       "dtype: object"
      ]
     },
     "execution_count": 157,
     "metadata": {},
     "output_type": "execute_result"
    }
   ],
   "source": [
    "# min untuk mencari nilai terendah\n",
    "sample.min()"
   ]
  },
  {
   "cell_type": "code",
   "execution_count": 158,
   "metadata": {},
   "outputs": [
    {
     "data": {
      "text/plain": [
       "nama_youtuber    7\n",
       "jenis_kelamin    7\n",
       "umur             7\n",
       "kategori         7\n",
       "subscriber       7\n",
       "dtype: int64"
      ]
     },
     "execution_count": 158,
     "metadata": {},
     "output_type": "execute_result"
    }
   ],
   "source": [
    "# jumlah non null record pada setiap kolom\n",
    "sample.count()"
   ]
  },
  {
   "attachments": {},
   "cell_type": "markdown",
   "metadata": {},
   "source": [
    "describe()"
   ]
  },
  {
   "cell_type": "code",
   "execution_count": 159,
   "metadata": {},
   "outputs": [
    {
     "data": {
      "text/html": [
       "<div>\n",
       "<style scoped>\n",
       "    .dataframe tbody tr th:only-of-type {\n",
       "        vertical-align: middle;\n",
       "    }\n",
       "\n",
       "    .dataframe tbody tr th {\n",
       "        vertical-align: top;\n",
       "    }\n",
       "\n",
       "    .dataframe thead th {\n",
       "        text-align: right;\n",
       "    }\n",
       "</style>\n",
       "<table border=\"1\" class=\"dataframe\">\n",
       "  <thead>\n",
       "    <tr style=\"text-align: right;\">\n",
       "      <th></th>\n",
       "      <th>umur</th>\n",
       "      <th>subscriber</th>\n",
       "    </tr>\n",
       "  </thead>\n",
       "  <tbody>\n",
       "    <tr>\n",
       "      <th>count</th>\n",
       "      <td>7.000000</td>\n",
       "      <td>7.000000e+00</td>\n",
       "    </tr>\n",
       "    <tr>\n",
       "      <th>mean</th>\n",
       "      <td>27.857143</td>\n",
       "      <td>2.360000e+06</td>\n",
       "    </tr>\n",
       "    <tr>\n",
       "      <th>std</th>\n",
       "      <td>3.625308</td>\n",
       "      <td>2.346174e+06</td>\n",
       "    </tr>\n",
       "    <tr>\n",
       "      <th>min</th>\n",
       "      <td>23.000000</td>\n",
       "      <td>1.200000e+05</td>\n",
       "    </tr>\n",
       "    <tr>\n",
       "      <th>25%</th>\n",
       "      <td>25.500000</td>\n",
       "      <td>7.000000e+05</td>\n",
       "    </tr>\n",
       "    <tr>\n",
       "      <th>50%</th>\n",
       "      <td>28.000000</td>\n",
       "      <td>2.000000e+06</td>\n",
       "    </tr>\n",
       "    <tr>\n",
       "      <th>75%</th>\n",
       "      <td>29.500000</td>\n",
       "      <td>3.000000e+06</td>\n",
       "    </tr>\n",
       "    <tr>\n",
       "      <th>max</th>\n",
       "      <td>34.000000</td>\n",
       "      <td>7.000000e+06</td>\n",
       "    </tr>\n",
       "  </tbody>\n",
       "</table>\n",
       "</div>"
      ],
      "text/plain": [
       "            umur    subscriber\n",
       "count   7.000000  7.000000e+00\n",
       "mean   27.857143  2.360000e+06\n",
       "std     3.625308  2.346174e+06\n",
       "min    23.000000  1.200000e+05\n",
       "25%    25.500000  7.000000e+05\n",
       "50%    28.000000  2.000000e+06\n",
       "75%    29.500000  3.000000e+06\n",
       "max    34.000000  7.000000e+06"
      ]
     },
     "execution_count": 159,
     "metadata": {},
     "output_type": "execute_result"
    }
   ],
   "source": [
    "# ringaksan statistik data\n",
    "sample.describe()"
   ]
  },
  {
   "attachments": {},
   "cell_type": "markdown",
   "metadata": {},
   "source": [
    "iloc"
   ]
  },
  {
   "cell_type": "code",
   "execution_count": 160,
   "metadata": {},
   "outputs": [
    {
     "data": {
      "text/plain": [
       "0    34\n",
       "1    29\n",
       "2    28\n",
       "3    25\n",
       "4    23\n",
       "5    30\n",
       "6    26\n",
       "Name: umur, dtype: int64"
      ]
     },
     "execution_count": 160,
     "metadata": {},
     "output_type": "execute_result"
    }
   ],
   "source": [
    "# menampikan record 1 kolom (umur yang berada di indeks ke-2)\n",
    "sample.iloc[:,2]"
   ]
  },
  {
   "cell_type": "code",
   "execution_count": 161,
   "metadata": {},
   "outputs": [
    {
     "data": {
      "text/plain": [
       "0    34\n",
       "1    29\n",
       "2    28\n",
       "Name: umur, dtype: int64"
      ]
     },
     "execution_count": 161,
     "metadata": {},
     "output_type": "execute_result"
    }
   ],
   "source": [
    "# menampilkan 3 record pertama dari 1 kolom (umur)\n",
    "sample.iloc[0:3,2]"
   ]
  },
  {
   "cell_type": "code",
   "execution_count": 162,
   "metadata": {},
   "outputs": [
    {
     "data": {
      "text/html": [
       "<div>\n",
       "<style scoped>\n",
       "    .dataframe tbody tr th:only-of-type {\n",
       "        vertical-align: middle;\n",
       "    }\n",
       "\n",
       "    .dataframe tbody tr th {\n",
       "        vertical-align: top;\n",
       "    }\n",
       "\n",
       "    .dataframe thead th {\n",
       "        text-align: right;\n",
       "    }\n",
       "</style>\n",
       "<table border=\"1\" class=\"dataframe\">\n",
       "  <thead>\n",
       "    <tr style=\"text-align: right;\">\n",
       "      <th></th>\n",
       "      <th>nama_youtuber</th>\n",
       "      <th>jenis_kelamin</th>\n",
       "      <th>umur</th>\n",
       "      <th>kategori</th>\n",
       "      <th>subscriber</th>\n",
       "    </tr>\n",
       "  </thead>\n",
       "  <tbody>\n",
       "    <tr>\n",
       "      <th>0</th>\n",
       "      <td>Raditya Dika</td>\n",
       "      <td>L</td>\n",
       "      <td>34</td>\n",
       "      <td>Komedi</td>\n",
       "      <td>7000000</td>\n",
       "    </tr>\n",
       "    <tr>\n",
       "      <th>1</th>\n",
       "      <td>Statement Prod</td>\n",
       "      <td>L</td>\n",
       "      <td>29</td>\n",
       "      <td>Daily Vlog</td>\n",
       "      <td>120000</td>\n",
       "    </tr>\n",
       "    <tr>\n",
       "      <th>2</th>\n",
       "      <td>Arief Muhammad</td>\n",
       "      <td>L</td>\n",
       "      <td>28</td>\n",
       "      <td>Daily Vlog</td>\n",
       "      <td>3000000</td>\n",
       "    </tr>\n",
       "    <tr>\n",
       "      <th>3</th>\n",
       "      <td>Annisa Aziza</td>\n",
       "      <td>P</td>\n",
       "      <td>25</td>\n",
       "      <td>Food Travel</td>\n",
       "      <td>600000</td>\n",
       "    </tr>\n",
       "    <tr>\n",
       "      <th>4</th>\n",
       "      <td>Sarah Viloid</td>\n",
       "      <td>P</td>\n",
       "      <td>23</td>\n",
       "      <td>Gamer</td>\n",
       "      <td>2000000</td>\n",
       "    </tr>\n",
       "    <tr>\n",
       "      <th>5</th>\n",
       "      <td>MLI</td>\n",
       "      <td>L</td>\n",
       "      <td>30</td>\n",
       "      <td>Komedi</td>\n",
       "      <td>800000</td>\n",
       "    </tr>\n",
       "    <tr>\n",
       "      <th>6</th>\n",
       "      <td>Chandra Liow</td>\n",
       "      <td>L</td>\n",
       "      <td>26</td>\n",
       "      <td>Sketsa</td>\n",
       "      <td>3000000</td>\n",
       "    </tr>\n",
       "  </tbody>\n",
       "</table>\n",
       "</div>"
      ],
      "text/plain": [
       "    nama_youtuber jenis_kelamin  umur     kategori  subscriber\n",
       "0    Raditya Dika             L    34       Komedi     7000000\n",
       "1  Statement Prod             L    29   Daily Vlog      120000\n",
       "2  Arief Muhammad             L    28   Daily Vlog     3000000\n",
       "3    Annisa Aziza             P    25  Food Travel      600000\n",
       "4    Sarah Viloid             P    23        Gamer     2000000\n",
       "5             MLI             L    30       Komedi      800000\n",
       "6    Chandra Liow             L    26       Sketsa     3000000"
      ]
     },
     "execution_count": 162,
     "metadata": {},
     "output_type": "execute_result"
    }
   ],
   "source": [
    "# menampilkan kembali semua baris dan kolom\n",
    "sample.iloc[:,:]"
   ]
  },
  {
   "attachments": {},
   "cell_type": "markdown",
   "metadata": {},
   "source": [
    "loc"
   ]
  },
  {
   "cell_type": "code",
   "execution_count": 163,
   "metadata": {},
   "outputs": [
    {
     "data": {
      "text/plain": [
       "0      Raditya Dika\n",
       "1    Statement Prod\n",
       "2    Arief Muhammad\n",
       "3      Annisa Aziza\n",
       "4      Sarah Viloid\n",
       "5               MLI\n",
       "6      Chandra Liow\n",
       "Name: nama_youtuber, dtype: object"
      ]
     },
     "execution_count": 163,
     "metadata": {},
     "output_type": "execute_result"
    }
   ],
   "source": [
    "# menampilkan record 1 kolom, dengan menulis nama kolomnya(\"nama_youtuber\")\n",
    "sample.loc[:,\"nama_youtuber\"]"
   ]
  },
  {
   "cell_type": "code",
   "execution_count": 164,
   "metadata": {},
   "outputs": [
    {
     "data": {
      "text/plain": [
       "0      Raditya Dika\n",
       "1    Statement Prod\n",
       "2    Arief Muhammad\n",
       "3      Annisa Aziza\n",
       "Name: nama_youtuber, dtype: object"
      ]
     },
     "execution_count": 164,
     "metadata": {},
     "output_type": "execute_result"
    }
   ],
   "source": [
    "# menampilkan record dari indeks ke-0 sammpai ke-3 dari kolom \"nama_youtuber\"\n",
    "sample.loc[0:3,\"nama_youtuber\"]"
   ]
  },
  {
   "cell_type": "code",
   "execution_count": 165,
   "metadata": {},
   "outputs": [
    {
     "data": {
      "text/html": [
       "<div>\n",
       "<style scoped>\n",
       "    .dataframe tbody tr th:only-of-type {\n",
       "        vertical-align: middle;\n",
       "    }\n",
       "\n",
       "    .dataframe tbody tr th {\n",
       "        vertical-align: top;\n",
       "    }\n",
       "\n",
       "    .dataframe thead th {\n",
       "        text-align: right;\n",
       "    }\n",
       "</style>\n",
       "<table border=\"1\" class=\"dataframe\">\n",
       "  <thead>\n",
       "    <tr style=\"text-align: right;\">\n",
       "      <th></th>\n",
       "      <th>nama_youtuber</th>\n",
       "      <th>jenis_kelamin</th>\n",
       "    </tr>\n",
       "  </thead>\n",
       "  <tbody>\n",
       "    <tr>\n",
       "      <th>0</th>\n",
       "      <td>Raditya Dika</td>\n",
       "      <td>L</td>\n",
       "    </tr>\n",
       "    <tr>\n",
       "      <th>1</th>\n",
       "      <td>Statement Prod</td>\n",
       "      <td>L</td>\n",
       "    </tr>\n",
       "    <tr>\n",
       "      <th>2</th>\n",
       "      <td>Arief Muhammad</td>\n",
       "      <td>L</td>\n",
       "    </tr>\n",
       "    <tr>\n",
       "      <th>3</th>\n",
       "      <td>Annisa Aziza</td>\n",
       "      <td>P</td>\n",
       "    </tr>\n",
       "  </tbody>\n",
       "</table>\n",
       "</div>"
      ],
      "text/plain": [
       "    nama_youtuber jenis_kelamin\n",
       "0    Raditya Dika             L\n",
       "1  Statement Prod             L\n",
       "2  Arief Muhammad             L\n",
       "3    Annisa Aziza             P"
      ]
     },
     "execution_count": 165,
     "metadata": {},
     "output_type": "execute_result"
    }
   ],
   "source": [
    "# menammpilkan kembali semua baris dan kolom\n",
    "sample.loc[:3,\"nama_youtuber\":\"jenis_kelamin\"]"
   ]
  },
  {
   "attachments": {},
   "cell_type": "markdown",
   "metadata": {},
   "source": [
    "Mengisi Nilai Sama Untuk 1 Kolom"
   ]
  },
  {
   "cell_type": "code",
   "execution_count": 166,
   "metadata": {},
   "outputs": [
    {
     "data": {
      "text/html": [
       "<div>\n",
       "<style scoped>\n",
       "    .dataframe tbody tr th:only-of-type {\n",
       "        vertical-align: middle;\n",
       "    }\n",
       "\n",
       "    .dataframe tbody tr th {\n",
       "        vertical-align: top;\n",
       "    }\n",
       "\n",
       "    .dataframe thead th {\n",
       "        text-align: right;\n",
       "    }\n",
       "</style>\n",
       "<table border=\"1\" class=\"dataframe\">\n",
       "  <thead>\n",
       "    <tr style=\"text-align: right;\">\n",
       "      <th></th>\n",
       "      <th>nama_youtuber</th>\n",
       "      <th>jenis_kelamin</th>\n",
       "      <th>umur</th>\n",
       "      <th>kategori</th>\n",
       "      <th>subscriber</th>\n",
       "    </tr>\n",
       "  </thead>\n",
       "  <tbody>\n",
       "    <tr>\n",
       "      <th>0</th>\n",
       "      <td>Raditya Dika</td>\n",
       "      <td>L</td>\n",
       "      <td>34</td>\n",
       "      <td>Komedi</td>\n",
       "      <td>1</td>\n",
       "    </tr>\n",
       "    <tr>\n",
       "      <th>1</th>\n",
       "      <td>Statement Prod</td>\n",
       "      <td>L</td>\n",
       "      <td>29</td>\n",
       "      <td>Daily Vlog</td>\n",
       "      <td>1</td>\n",
       "    </tr>\n",
       "    <tr>\n",
       "      <th>2</th>\n",
       "      <td>Arief Muhammad</td>\n",
       "      <td>L</td>\n",
       "      <td>28</td>\n",
       "      <td>Daily Vlog</td>\n",
       "      <td>1</td>\n",
       "    </tr>\n",
       "    <tr>\n",
       "      <th>3</th>\n",
       "      <td>Annisa Aziza</td>\n",
       "      <td>P</td>\n",
       "      <td>25</td>\n",
       "      <td>Food Travel</td>\n",
       "      <td>1</td>\n",
       "    </tr>\n",
       "    <tr>\n",
       "      <th>4</th>\n",
       "      <td>Sarah Viloid</td>\n",
       "      <td>P</td>\n",
       "      <td>23</td>\n",
       "      <td>Gamer</td>\n",
       "      <td>1</td>\n",
       "    </tr>\n",
       "    <tr>\n",
       "      <th>5</th>\n",
       "      <td>MLI</td>\n",
       "      <td>L</td>\n",
       "      <td>30</td>\n",
       "      <td>Komedi</td>\n",
       "      <td>1</td>\n",
       "    </tr>\n",
       "    <tr>\n",
       "      <th>6</th>\n",
       "      <td>Chandra Liow</td>\n",
       "      <td>L</td>\n",
       "      <td>26</td>\n",
       "      <td>Sketsa</td>\n",
       "      <td>1</td>\n",
       "    </tr>\n",
       "  </tbody>\n",
       "</table>\n",
       "</div>"
      ],
      "text/plain": [
       "    nama_youtuber jenis_kelamin  umur     kategori  subscriber\n",
       "0    Raditya Dika             L    34       Komedi           1\n",
       "1  Statement Prod             L    29   Daily Vlog           1\n",
       "2  Arief Muhammad             L    28   Daily Vlog           1\n",
       "3    Annisa Aziza             P    25  Food Travel           1\n",
       "4    Sarah Viloid             P    23        Gamer           1\n",
       "5             MLI             L    30       Komedi           1\n",
       "6    Chandra Liow             L    26       Sketsa           1"
      ]
     },
     "execution_count": 166,
     "metadata": {},
     "output_type": "execute_result"
    }
   ],
   "source": [
    "# mengisi nilai 1 untuk kolom \"subscriber\"\n",
    "sample['subscriber']=1\n",
    "sample"
   ]
  },
  {
   "attachments": {},
   "cell_type": "markdown",
   "metadata": {},
   "source": [
    "Sorting"
   ]
  },
  {
   "cell_type": "code",
   "execution_count": 167,
   "metadata": {},
   "outputs": [
    {
     "data": {
      "text/html": [
       "<div>\n",
       "<style scoped>\n",
       "    .dataframe tbody tr th:only-of-type {\n",
       "        vertical-align: middle;\n",
       "    }\n",
       "\n",
       "    .dataframe tbody tr th {\n",
       "        vertical-align: top;\n",
       "    }\n",
       "\n",
       "    .dataframe thead th {\n",
       "        text-align: right;\n",
       "    }\n",
       "</style>\n",
       "<table border=\"1\" class=\"dataframe\">\n",
       "  <thead>\n",
       "    <tr style=\"text-align: right;\">\n",
       "      <th></th>\n",
       "      <th>nama_youtuber</th>\n",
       "      <th>jenis_kelamin</th>\n",
       "      <th>umur</th>\n",
       "      <th>kategori</th>\n",
       "      <th>subscriber</th>\n",
       "    </tr>\n",
       "  </thead>\n",
       "  <tbody>\n",
       "    <tr>\n",
       "      <th>1</th>\n",
       "      <td>Statement Prod</td>\n",
       "      <td>L</td>\n",
       "      <td>29</td>\n",
       "      <td>Daily Vlog</td>\n",
       "      <td>1</td>\n",
       "    </tr>\n",
       "    <tr>\n",
       "      <th>2</th>\n",
       "      <td>Arief Muhammad</td>\n",
       "      <td>L</td>\n",
       "      <td>28</td>\n",
       "      <td>Daily Vlog</td>\n",
       "      <td>1</td>\n",
       "    </tr>\n",
       "    <tr>\n",
       "      <th>3</th>\n",
       "      <td>Annisa Aziza</td>\n",
       "      <td>P</td>\n",
       "      <td>25</td>\n",
       "      <td>Food Travel</td>\n",
       "      <td>1</td>\n",
       "    </tr>\n",
       "    <tr>\n",
       "      <th>4</th>\n",
       "      <td>Sarah Viloid</td>\n",
       "      <td>P</td>\n",
       "      <td>23</td>\n",
       "      <td>Gamer</td>\n",
       "      <td>1</td>\n",
       "    </tr>\n",
       "    <tr>\n",
       "      <th>0</th>\n",
       "      <td>Raditya Dika</td>\n",
       "      <td>L</td>\n",
       "      <td>34</td>\n",
       "      <td>Komedi</td>\n",
       "      <td>1</td>\n",
       "    </tr>\n",
       "    <tr>\n",
       "      <th>5</th>\n",
       "      <td>MLI</td>\n",
       "      <td>L</td>\n",
       "      <td>30</td>\n",
       "      <td>Komedi</td>\n",
       "      <td>1</td>\n",
       "    </tr>\n",
       "    <tr>\n",
       "      <th>6</th>\n",
       "      <td>Chandra Liow</td>\n",
       "      <td>L</td>\n",
       "      <td>26</td>\n",
       "      <td>Sketsa</td>\n",
       "      <td>1</td>\n",
       "    </tr>\n",
       "  </tbody>\n",
       "</table>\n",
       "</div>"
      ],
      "text/plain": [
       "    nama_youtuber jenis_kelamin  umur     kategori  subscriber\n",
       "1  Statement Prod             L    29   Daily Vlog           1\n",
       "2  Arief Muhammad             L    28   Daily Vlog           1\n",
       "3    Annisa Aziza             P    25  Food Travel           1\n",
       "4    Sarah Viloid             P    23        Gamer           1\n",
       "0    Raditya Dika             L    34       Komedi           1\n",
       "5             MLI             L    30       Komedi           1\n",
       "6    Chandra Liow             L    26       Sketsa           1"
      ]
     },
     "execution_count": 167,
     "metadata": {},
     "output_type": "execute_result"
    }
   ],
   "source": [
    "# sorting berdasarkan ascending dari kolom \"kategori\"\n",
    "sample.sort_values(by='kategori')"
   ]
  },
  {
   "cell_type": "code",
   "execution_count": 168,
   "metadata": {},
   "outputs": [
    {
     "data": {
      "text/html": [
       "<div>\n",
       "<style scoped>\n",
       "    .dataframe tbody tr th:only-of-type {\n",
       "        vertical-align: middle;\n",
       "    }\n",
       "\n",
       "    .dataframe tbody tr th {\n",
       "        vertical-align: top;\n",
       "    }\n",
       "\n",
       "    .dataframe thead th {\n",
       "        text-align: right;\n",
       "    }\n",
       "</style>\n",
       "<table border=\"1\" class=\"dataframe\">\n",
       "  <thead>\n",
       "    <tr style=\"text-align: right;\">\n",
       "      <th></th>\n",
       "      <th>nama_youtuber</th>\n",
       "      <th>jenis_kelamin</th>\n",
       "      <th>umur</th>\n",
       "      <th>kategori</th>\n",
       "      <th>subscriber</th>\n",
       "    </tr>\n",
       "  </thead>\n",
       "  <tbody>\n",
       "    <tr>\n",
       "      <th>6</th>\n",
       "      <td>Chandra Liow</td>\n",
       "      <td>L</td>\n",
       "      <td>26</td>\n",
       "      <td>Sketsa</td>\n",
       "      <td>1</td>\n",
       "    </tr>\n",
       "    <tr>\n",
       "      <th>0</th>\n",
       "      <td>Raditya Dika</td>\n",
       "      <td>L</td>\n",
       "      <td>34</td>\n",
       "      <td>Komedi</td>\n",
       "      <td>1</td>\n",
       "    </tr>\n",
       "    <tr>\n",
       "      <th>5</th>\n",
       "      <td>MLI</td>\n",
       "      <td>L</td>\n",
       "      <td>30</td>\n",
       "      <td>Komedi</td>\n",
       "      <td>1</td>\n",
       "    </tr>\n",
       "    <tr>\n",
       "      <th>4</th>\n",
       "      <td>Sarah Viloid</td>\n",
       "      <td>P</td>\n",
       "      <td>23</td>\n",
       "      <td>Gamer</td>\n",
       "      <td>1</td>\n",
       "    </tr>\n",
       "    <tr>\n",
       "      <th>3</th>\n",
       "      <td>Annisa Aziza</td>\n",
       "      <td>P</td>\n",
       "      <td>25</td>\n",
       "      <td>Food Travel</td>\n",
       "      <td>1</td>\n",
       "    </tr>\n",
       "    <tr>\n",
       "      <th>1</th>\n",
       "      <td>Statement Prod</td>\n",
       "      <td>L</td>\n",
       "      <td>29</td>\n",
       "      <td>Daily Vlog</td>\n",
       "      <td>1</td>\n",
       "    </tr>\n",
       "    <tr>\n",
       "      <th>2</th>\n",
       "      <td>Arief Muhammad</td>\n",
       "      <td>L</td>\n",
       "      <td>28</td>\n",
       "      <td>Daily Vlog</td>\n",
       "      <td>1</td>\n",
       "    </tr>\n",
       "  </tbody>\n",
       "</table>\n",
       "</div>"
      ],
      "text/plain": [
       "    nama_youtuber jenis_kelamin  umur     kategori  subscriber\n",
       "6    Chandra Liow             L    26       Sketsa           1\n",
       "0    Raditya Dika             L    34       Komedi           1\n",
       "5             MLI             L    30       Komedi           1\n",
       "4    Sarah Viloid             P    23        Gamer           1\n",
       "3    Annisa Aziza             P    25  Food Travel           1\n",
       "1  Statement Prod             L    29   Daily Vlog           1\n",
       "2  Arief Muhammad             L    28   Daily Vlog           1"
      ]
     },
     "execution_count": 168,
     "metadata": {},
     "output_type": "execute_result"
    }
   ],
   "source": [
    "# sorting berdasarkan descending dari kolom \"kategori\"\n",
    "sample.sort_values(by='kategori', ascending=False)"
   ]
  },
  {
   "attachments": {},
   "cell_type": "markdown",
   "metadata": {},
   "source": [
    "Filter"
   ]
  },
  {
   "cell_type": "code",
   "execution_count": 169,
   "metadata": {},
   "outputs": [
    {
     "data": {
      "text/plain": [
       "0     True\n",
       "1     True\n",
       "2    False\n",
       "3    False\n",
       "4    False\n",
       "5     True\n",
       "6    False\n",
       "Name: umur, dtype: bool"
      ]
     },
     "execution_count": 169,
     "metadata": {},
     "output_type": "execute_result"
    }
   ],
   "source": [
    "# filter record yang \"umurnya\" lebih dari 28 dan akan menampilkan status True atau False\n",
    "sample['umur'] > 28"
   ]
  },
  {
   "cell_type": "code",
   "execution_count": 170,
   "metadata": {},
   "outputs": [
    {
     "data": {
      "text/html": [
       "<div>\n",
       "<style scoped>\n",
       "    .dataframe tbody tr th:only-of-type {\n",
       "        vertical-align: middle;\n",
       "    }\n",
       "\n",
       "    .dataframe tbody tr th {\n",
       "        vertical-align: top;\n",
       "    }\n",
       "\n",
       "    .dataframe thead th {\n",
       "        text-align: right;\n",
       "    }\n",
       "</style>\n",
       "<table border=\"1\" class=\"dataframe\">\n",
       "  <thead>\n",
       "    <tr style=\"text-align: right;\">\n",
       "      <th></th>\n",
       "      <th>nama_youtuber</th>\n",
       "      <th>jenis_kelamin</th>\n",
       "      <th>umur</th>\n",
       "      <th>kategori</th>\n",
       "      <th>subscriber</th>\n",
       "    </tr>\n",
       "  </thead>\n",
       "  <tbody>\n",
       "    <tr>\n",
       "      <th>0</th>\n",
       "      <td>Raditya Dika</td>\n",
       "      <td>L</td>\n",
       "      <td>34</td>\n",
       "      <td>Komedi</td>\n",
       "      <td>1</td>\n",
       "    </tr>\n",
       "    <tr>\n",
       "      <th>1</th>\n",
       "      <td>Statement Prod</td>\n",
       "      <td>L</td>\n",
       "      <td>29</td>\n",
       "      <td>Daily Vlog</td>\n",
       "      <td>1</td>\n",
       "    </tr>\n",
       "    <tr>\n",
       "      <th>5</th>\n",
       "      <td>MLI</td>\n",
       "      <td>L</td>\n",
       "      <td>30</td>\n",
       "      <td>Komedi</td>\n",
       "      <td>1</td>\n",
       "    </tr>\n",
       "  </tbody>\n",
       "</table>\n",
       "</div>"
      ],
      "text/plain": [
       "    nama_youtuber jenis_kelamin  umur    kategori  subscriber\n",
       "0    Raditya Dika             L    34      Komedi           1\n",
       "1  Statement Prod             L    29  Daily Vlog           1\n",
       "5             MLI             L    30      Komedi           1"
      ]
     },
     "execution_count": 170,
     "metadata": {},
     "output_type": "execute_result"
    }
   ],
   "source": [
    "# filter, kemudian tampilkan record-nya\n",
    "filter1 = sample['umur'] > 28\n",
    "filterbaru = sample[filter1]\n",
    "filterbaru"
   ]
  },
  {
   "cell_type": "code",
   "execution_count": 171,
   "metadata": {},
   "outputs": [
    {
     "data": {
      "text/html": [
       "<div>\n",
       "<style scoped>\n",
       "    .dataframe tbody tr th:only-of-type {\n",
       "        vertical-align: middle;\n",
       "    }\n",
       "\n",
       "    .dataframe tbody tr th {\n",
       "        vertical-align: top;\n",
       "    }\n",
       "\n",
       "    .dataframe thead th {\n",
       "        text-align: right;\n",
       "    }\n",
       "</style>\n",
       "<table border=\"1\" class=\"dataframe\">\n",
       "  <thead>\n",
       "    <tr style=\"text-align: right;\">\n",
       "      <th></th>\n",
       "      <th>nama_youtuber</th>\n",
       "      <th>jenis_kelamin</th>\n",
       "      <th>umur</th>\n",
       "      <th>kategori</th>\n",
       "      <th>subscriber</th>\n",
       "    </tr>\n",
       "  </thead>\n",
       "  <tbody>\n",
       "    <tr>\n",
       "      <th>1</th>\n",
       "      <td>Statement Prod</td>\n",
       "      <td>L</td>\n",
       "      <td>29</td>\n",
       "      <td>Daily Vlog</td>\n",
       "      <td>1</td>\n",
       "    </tr>\n",
       "    <tr>\n",
       "      <th>2</th>\n",
       "      <td>Arief Muhammad</td>\n",
       "      <td>L</td>\n",
       "      <td>28</td>\n",
       "      <td>Daily Vlog</td>\n",
       "      <td>1</td>\n",
       "    </tr>\n",
       "  </tbody>\n",
       "</table>\n",
       "</div>"
      ],
      "text/plain": [
       "    nama_youtuber jenis_kelamin  umur    kategori  subscriber\n",
       "1  Statement Prod             L    29  Daily Vlog           1\n",
       "2  Arief Muhammad             L    28  Daily Vlog           1"
      ]
     },
     "execution_count": 171,
     "metadata": {},
     "output_type": "execute_result"
    }
   ],
   "source": [
    "# filter dengan 2 parameter (berdasarkan yang umurnya 27 dan kategori Daily Vlog)\n",
    "filter2 = (sample['umur'] > 27) & (sample['kategori'] == 'Daily Vlog')\n",
    "filterbaru = sample[filter2]\n",
    "filterbaru"
   ]
  },
  {
   "cell_type": "markdown",
   "metadata": {},
   "source": [
    "Rename dan Drop Kolom"
   ]
  },
  {
   "cell_type": "code",
   "execution_count": 172,
   "metadata": {},
   "outputs": [
    {
     "data": {
      "text/html": [
       "<div>\n",
       "<style scoped>\n",
       "    .dataframe tbody tr th:only-of-type {\n",
       "        vertical-align: middle;\n",
       "    }\n",
       "\n",
       "    .dataframe tbody tr th {\n",
       "        vertical-align: top;\n",
       "    }\n",
       "\n",
       "    .dataframe thead th {\n",
       "        text-align: right;\n",
       "    }\n",
       "</style>\n",
       "<table border=\"1\" class=\"dataframe\">\n",
       "  <thead>\n",
       "    <tr style=\"text-align: right;\">\n",
       "      <th></th>\n",
       "      <th>Youtuber</th>\n",
       "      <th>jenis_kelamin</th>\n",
       "      <th>umur</th>\n",
       "      <th>kategori</th>\n",
       "      <th>subscriber</th>\n",
       "    </tr>\n",
       "  </thead>\n",
       "  <tbody>\n",
       "    <tr>\n",
       "      <th>0</th>\n",
       "      <td>Raditya Dika</td>\n",
       "      <td>L</td>\n",
       "      <td>34</td>\n",
       "      <td>Komedi</td>\n",
       "      <td>1</td>\n",
       "    </tr>\n",
       "    <tr>\n",
       "      <th>1</th>\n",
       "      <td>Statement Prod</td>\n",
       "      <td>L</td>\n",
       "      <td>29</td>\n",
       "      <td>Daily Vlog</td>\n",
       "      <td>1</td>\n",
       "    </tr>\n",
       "    <tr>\n",
       "      <th>2</th>\n",
       "      <td>Arief Muhammad</td>\n",
       "      <td>L</td>\n",
       "      <td>28</td>\n",
       "      <td>Daily Vlog</td>\n",
       "      <td>1</td>\n",
       "    </tr>\n",
       "    <tr>\n",
       "      <th>3</th>\n",
       "      <td>Annisa Aziza</td>\n",
       "      <td>P</td>\n",
       "      <td>25</td>\n",
       "      <td>Food Travel</td>\n",
       "      <td>1</td>\n",
       "    </tr>\n",
       "    <tr>\n",
       "      <th>4</th>\n",
       "      <td>Sarah Viloid</td>\n",
       "      <td>P</td>\n",
       "      <td>23</td>\n",
       "      <td>Gamer</td>\n",
       "      <td>1</td>\n",
       "    </tr>\n",
       "    <tr>\n",
       "      <th>5</th>\n",
       "      <td>MLI</td>\n",
       "      <td>L</td>\n",
       "      <td>30</td>\n",
       "      <td>Komedi</td>\n",
       "      <td>1</td>\n",
       "    </tr>\n",
       "    <tr>\n",
       "      <th>6</th>\n",
       "      <td>Chandra Liow</td>\n",
       "      <td>L</td>\n",
       "      <td>26</td>\n",
       "      <td>Sketsa</td>\n",
       "      <td>1</td>\n",
       "    </tr>\n",
       "  </tbody>\n",
       "</table>\n",
       "</div>"
      ],
      "text/plain": [
       "         Youtuber jenis_kelamin  umur     kategori  subscriber\n",
       "0    Raditya Dika             L    34       Komedi           1\n",
       "1  Statement Prod             L    29   Daily Vlog           1\n",
       "2  Arief Muhammad             L    28   Daily Vlog           1\n",
       "3    Annisa Aziza             P    25  Food Travel           1\n",
       "4    Sarah Viloid             P    23        Gamer           1\n",
       "5             MLI             L    30       Komedi           1\n",
       "6    Chandra Liow             L    26       Sketsa           1"
      ]
     },
     "execution_count": 172,
     "metadata": {},
     "output_type": "execute_result"
    }
   ],
   "source": [
    "# rename kolom\n",
    "sample = sample.rename(columns={'nama_youtuber':'Youtuber'})\n",
    "sample"
   ]
  },
  {
   "cell_type": "code",
   "execution_count": 173,
   "metadata": {},
   "outputs": [
    {
     "data": {
      "text/html": [
       "<div>\n",
       "<style scoped>\n",
       "    .dataframe tbody tr th:only-of-type {\n",
       "        vertical-align: middle;\n",
       "    }\n",
       "\n",
       "    .dataframe tbody tr th {\n",
       "        vertical-align: top;\n",
       "    }\n",
       "\n",
       "    .dataframe thead th {\n",
       "        text-align: right;\n",
       "    }\n",
       "</style>\n",
       "<table border=\"1\" class=\"dataframe\">\n",
       "  <thead>\n",
       "    <tr style=\"text-align: right;\">\n",
       "      <th></th>\n",
       "      <th>Youtuber</th>\n",
       "      <th>umur</th>\n",
       "      <th>kategori</th>\n",
       "      <th>subscriber</th>\n",
       "    </tr>\n",
       "  </thead>\n",
       "  <tbody>\n",
       "    <tr>\n",
       "      <th>0</th>\n",
       "      <td>Raditya Dika</td>\n",
       "      <td>34</td>\n",
       "      <td>Komedi</td>\n",
       "      <td>1</td>\n",
       "    </tr>\n",
       "    <tr>\n",
       "      <th>1</th>\n",
       "      <td>Statement Prod</td>\n",
       "      <td>29</td>\n",
       "      <td>Daily Vlog</td>\n",
       "      <td>1</td>\n",
       "    </tr>\n",
       "    <tr>\n",
       "      <th>2</th>\n",
       "      <td>Arief Muhammad</td>\n",
       "      <td>28</td>\n",
       "      <td>Daily Vlog</td>\n",
       "      <td>1</td>\n",
       "    </tr>\n",
       "    <tr>\n",
       "      <th>3</th>\n",
       "      <td>Annisa Aziza</td>\n",
       "      <td>25</td>\n",
       "      <td>Food Travel</td>\n",
       "      <td>1</td>\n",
       "    </tr>\n",
       "    <tr>\n",
       "      <th>4</th>\n",
       "      <td>Sarah Viloid</td>\n",
       "      <td>23</td>\n",
       "      <td>Gamer</td>\n",
       "      <td>1</td>\n",
       "    </tr>\n",
       "    <tr>\n",
       "      <th>5</th>\n",
       "      <td>MLI</td>\n",
       "      <td>30</td>\n",
       "      <td>Komedi</td>\n",
       "      <td>1</td>\n",
       "    </tr>\n",
       "    <tr>\n",
       "      <th>6</th>\n",
       "      <td>Chandra Liow</td>\n",
       "      <td>26</td>\n",
       "      <td>Sketsa</td>\n",
       "      <td>1</td>\n",
       "    </tr>\n",
       "  </tbody>\n",
       "</table>\n",
       "</div>"
      ],
      "text/plain": [
       "         Youtuber  umur     kategori  subscriber\n",
       "0    Raditya Dika    34       Komedi           1\n",
       "1  Statement Prod    29   Daily Vlog           1\n",
       "2  Arief Muhammad    28   Daily Vlog           1\n",
       "3    Annisa Aziza    25  Food Travel           1\n",
       "4    Sarah Viloid    23        Gamer           1\n",
       "5             MLI    30       Komedi           1\n",
       "6    Chandra Liow    26       Sketsa           1"
      ]
     },
     "execution_count": 173,
     "metadata": {},
     "output_type": "execute_result"
    }
   ],
   "source": [
    "# drop atau menghilangkan kolom\n",
    "sample = sample.drop(columns=['jenis_kelamin'])\n",
    "sample"
   ]
  }
 ],
 "metadata": {
  "kernelspec": {
   "display_name": "Python 3",
   "language": "python",
   "name": "python3"
  },
  "language_info": {
   "codemirror_mode": {
    "name": "ipython",
    "version": 3
   },
   "file_extension": ".py",
   "mimetype": "text/x-python",
   "name": "python",
   "nbconvert_exporter": "python",
   "pygments_lexer": "ipython3",
   "version": "3.11.2"
  },
  "orig_nbformat": 4
 },
 "nbformat": 4,
 "nbformat_minor": 2
}
